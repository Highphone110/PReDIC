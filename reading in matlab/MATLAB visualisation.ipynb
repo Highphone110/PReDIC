{
 "cells": [
  {
   "cell_type": "markdown",
   "metadata": {},
   "source": [
    "# Matlab Visualisation tool\n",
    " - Reads in the output MATLAB files\n",
    " - Uses imshow to construct plots to visually inspect the data\n",
    " \n",
    "Created on Wed Aug 28 15:24:22 2019,\n",
    "Updated on Wed Sep 04 15:16:00 2019\n",
    "\n",
    "@author: Maddie McKenzie"
   ]
  },
  {
   "cell_type": "code",
   "execution_count": 1,
   "metadata": {},
   "outputs": [],
   "source": [
    "# Imports needed:\n",
    "\n",
    "import pandas as pd\n",
    "import numpy as np\n",
    "import matplotlib.pyplot as plt\n",
    "import matplotlib.image as mpimg"
   ]
  },
  {
   "cell_type": "markdown",
   "metadata": {},
   "source": [
    "## How to run:\n",
    "\n",
    "- shift + enter on the file name you would like to see the test output below (if more files are generated, add them to the list)\n",
    "- Run following cells\n",
    "\n",
    "### Note - \n",
    "Numbers in file name denote subset. As subset increases, ability to judge deformation decreases?"
   ]
  },
  {
   "cell_type": "code",
   "execution_count": null,
   "metadata": {},
   "outputs": [],
   "source": [
    "fileame = 'DEF.xlsx' # The original matlab output"
   ]
  },
  {
   "cell_type": "code",
   "execution_count": 16,
   "metadata": {},
   "outputs": [],
   "source": [
    "fileame = 'DEF5.csv' # 50 x 50 cropping of the previous matlab output with different subset sizes?"
   ]
  },
  {
   "cell_type": "code",
   "execution_count": null,
   "metadata": {},
   "outputs": [],
   "source": [
    "fileame = 'DEF7.csv'"
   ]
  },
  {
   "cell_type": "code",
   "execution_count": 12,
   "metadata": {},
   "outputs": [],
   "source": [
    "fileame = 'DEF19.csv'"
   ]
  },
  {
   "cell_type": "code",
   "execution_count": 17,
   "metadata": {},
   "outputs": [],
   "source": [
    "# Dont run this cell multiple times - it takes a while to read in\n",
    "\n",
    "deformation = pd.read_csv(fileame)\n",
    "deformation_np = np.array(deformation)"
   ]
  },
  {
   "cell_type": "markdown",
   "metadata": {},
   "source": [
    "## Note:\n",
    "\n",
    "Run the top cell if you are using 500 x 500 image and the bottom if you are using the 50x50\n",
    "(to be automated later instead of hard coded in...)"
   ]
  },
  {
   "cell_type": "code",
   "execution_count": 34,
   "metadata": {},
   "outputs": [],
   "source": [
    "#500 x 500 image\n",
    "\n",
    "# Reference and deformed image?\n",
    "x = deformation_np[:,0:499]\n",
    "y = deformation_np[:,500:999]\n",
    "\n",
    "# Quick and dirty way of just assigning variables to things\n",
    "# I dont know about (Feel free to rename)\n",
    "# (Assuming 500x500 sized images)\n",
    "sub1 = deformation_np[:,1000:1499] # Weird line patterns like ref500\n",
    "sub2 = deformation_np[:,1500:1999]\n",
    "sub3 = deformation_np[:,2000:2499]\n",
    "sub4 = deformation_np[:,2500:2999]\n",
    "sub5 = deformation_np[:,3000:3499]\n",
    "sub6 = deformation_np[:,3500:3999] \n",
    "sub7 = deformation_np[:,4000:4499] #Nice swirls\n",
    "sub8 = deformation_np[:,4500:4999] # Rainbow output? - time duration \n",
    "sub9 = deformation_np[:,5000:5499] # Nice swirms\n",
    "sub10 = deformation_np[:,5500:5999] # Rainbow output? - time duration?"
   ]
  },
  {
   "cell_type": "code",
   "execution_count": 18,
   "metadata": {},
   "outputs": [],
   "source": [
    "# 50 x 50 image\n",
    "\n",
    "# Reference and deformed image?\n",
    "x = deformation_np[:,0:49]\n",
    "y = deformation_np[:,50:99]\n",
    "\n",
    "# Quick and dirty way of just assigning variables to things\n",
    "# I dont know about (Feel free to rename)\n",
    "# (Assuming 500x500 sized images)\n",
    "sub1 = deformation_np[:,100:149] # Weird line patterns like ref500\n",
    "sub2 = deformation_np[:,150:199]\n",
    "sub3 = deformation_np[:,200:249]\n",
    "sub4 = deformation_np[:,250:299]\n",
    "sub5 = deformation_np[:,300:349]\n",
    "sub6 = deformation_np[:,350:399] \n",
    "sub7 = deformation_np[:,400:449] #Nice swirls\n",
    "sub8 = deformation_np[:,450:499] # Rainbow output?\n",
    "sub9 = deformation_np[:,500:549] # Nice swirms\n",
    "sub10 = deformation_np[:,550:599] # Rainbow output?"
   ]
  },
  {
   "cell_type": "code",
   "execution_count": 19,
   "metadata": {},
   "outputs": [
    {
     "data": {
      "image/png": "[encoded data removed]",
      "text/plain": [
       "<Figure size 432x288 with 2 Axes>"
      ]
     },
     "metadata": {
      "needs_background": "light"
     },
     "output_type": "display_data"
    }
   ],
   "source": [
    "# Example of what the entire array looks like\n",
    "imgplot = plt.imshow(deformation_np)\n",
    "imgplot.set_cmap('nipy_spectral')\n",
    "plt.colorbar()\n",
    "plt.show()"
   ]
  },
  {
   "cell_type": "markdown",
   "metadata": {},
   "source": [
    "#### Discussion:\n",
    "\n",
    "The scale of sub9 (the rainbow section) is so high it blows all the other scales out of proportion"
   ]
  },
  {
   "cell_type": "code",
   "execution_count": 20,
   "metadata": {},
   "outputs": [
    {
     "data": {
      "image/png": "[encoded data removed]",
      "text/plain": [
       "<Figure size 432x288 with 2 Axes>"
      ]
     },
     "metadata": {
      "needs_background": "light"
     },
     "output_type": "display_data"
    }
   ],
   "source": [
    "# Results for the reference image\n",
    "imgplot = plt.imshow(x)\n",
    "imgplot.set_cmap('nipy_spectral')\n",
    "plt.colorbar()\n",
    "plt.show()"
   ]
  },
  {
   "cell_type": "code",
   "execution_count": 21,
   "metadata": {},
   "outputs": [
    {
     "data": {
      "image/png": "[encoded data removed]",
      "text/plain": [
       "<Figure size 432x288 with 2 Axes>"
      ]
     },
     "metadata": {
      "needs_background": "light"
     },
     "output_type": "display_data"
    }
   ],
   "source": [
    "# Results for the deformed image\n",
    "imgplot = plt.imshow(y)\n",
    "imgplot.set_cmap('nipy_spectral')\n",
    "plt.colorbar()\n",
    "plt.show()"
   ]
  },
  {
   "cell_type": "markdown",
   "metadata": {},
   "source": [
    "#### Discussion:\n",
    "I'm not entirely sure what is being shown here, if anyone wants to chime in on these results that would be lovely.\n",
    "\n",
    "Note: imshow has a tendency to rotate images, I dont know when it happens or why. It shouldnt change our interpretation though, just something to be mindful of."
   ]
  },
  {
   "cell_type": "code",
   "execution_count": 22,
   "metadata": {},
   "outputs": [
    {
     "data": {
      "image/png": "[encoded data removed]",
      "text/plain": [
       "<Figure size 432x288 with 2 Axes>"
      ]
     },
     "metadata": {
      "needs_background": "light"
     },
     "output_type": "display_data"
    }
   ],
   "source": [
    "# Change the frame in imshow to see what each dataset looks like\n",
    "imgplot = plt.imshow(sub4)\n",
    "imgplot.set_cmap('nipy_spectral')\n",
    "plt.colorbar()\n",
    "plt.show()"
   ]
  },
  {
   "cell_type": "code",
   "execution_count": 23,
   "metadata": {},
   "outputs": [
    {
     "data": {
      "image/png": "[encoded data removed]",
      "text/plain": [
       "<Figure size 432x288 with 2 Axes>"
      ]
     },
     "metadata": {
      "needs_background": "light"
     },
     "output_type": "display_data"
    }
   ],
   "source": [
    "# Just another plot in case you wanted to compare\n",
    "# (I cant be bothered creating multiple axis)\n",
    "imgplot = plt.imshow(sub6)\n",
    "imgplot.set_cmap('nipy_spectral')\n",
    "plt.colorbar()\n",
    "plt.show()"
   ]
  },
  {
   "cell_type": "code",
   "execution_count": 24,
   "metadata": {},
   "outputs": [],
   "source": [
    "residual = (x**2 + y**2 )**0.5"
   ]
  },
  {
   "cell_type": "code",
   "execution_count": 25,
   "metadata": {},
   "outputs": [
    {
     "data": {
      "image/png": "[encoded data removed]",
      "text/plain": [
       "<Figure size 432x288 with 2 Axes>"
      ]
     },
     "metadata": {
      "needs_background": "light"
     },
     "output_type": "display_data"
    }
   ],
   "source": [
    "imgplot = plt.imshow(residual)\n",
    "imgplot.set_cmap('nipy_spectral')\n",
    "plt.colorbar()\n",
    "plt.show()"
   ]
  },
  {
   "cell_type": "code",
   "execution_count": null,
   "metadata": {},
   "outputs": [],
   "source": []
  },
  {
   "cell_type": "code",
   "execution_count": null,
   "metadata": {},
   "outputs": [],
   "source": []
  },
  {
   "cell_type": "code",
   "execution_count": null,
   "metadata": {},
   "outputs": [],
   "source": []
  }
 ],
 "metadata": {
  "kernelspec": {
   "display_name": "Python 3",
   "language": "python",
   "name": "python3"
  },
  "language_info": {
   "codemirror_mode": {
    "name": "ipython",
    "version": 3
   },
   "file_extension": ".py",
   "mimetype": "text/x-python",
   "name": "python",
   "nbconvert_exporter": "python",
   "pygments_lexer": "ipython3",
   "version": "3.6.8"
  }
 },
 "nbformat": 4,
 "nbformat_minor": 2
}
